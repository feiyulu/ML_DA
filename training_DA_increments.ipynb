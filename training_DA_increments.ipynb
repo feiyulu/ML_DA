{
 "cells": [
  {
   "cell_type": "code",
   "execution_count": 1,
   "id": "952714d8",
   "metadata": {
    "scrolled": false
   },
   "outputs": [
    {
     "name": "stdout",
     "output_type": "stream",
     "text": [
      "(2185,)\n"
     ]
    },
    {
     "name": "stderr",
     "output_type": "stream",
     "text": [
      "/vftmp/Feiyu.Lu/pid20460/ipykernel_21784/2352876491.py:55: RuntimeWarning: Converting a CFTimeIndex with dates from a non-standard calendar, 'julian', to a pandas.DatetimeIndex, which uses dates from the standard calendar.  This may lead to subtle errors in operations that depend on the length of time between dates.\n",
      "  datetimeindex = da.indexes['time'].to_datetimeindex()\n"
     ]
    }
   ],
   "source": [
    "import xarray as xr\n",
    "import numpy as np\n",
    "import glob\n",
    "import cftime\n",
    "import os\n",
    "import matplotlib.pyplot as plt\n",
    "import cartopy\n",
    "from scipy import interpolate\n",
    "import math\n",
    "\n",
    "thickness_file=\"/work/Feiyu.Lu/ECDA_data/vgrid_75_2m.nc\"\n",
    "thickness_ds=xr.open_dataset(thickness_file)\n",
    "thickness=thickness_ds.dz\n",
    "sec_per_julian_year=3600*24*365.25\n",
    "sec_per_day=3600*24\n",
    "\n",
    "year=2010\n",
    "month=1\n",
    "argo_ds=xr.open_dataset('/work/Feiyu.Lu/ECDA_data/argo_old/argo_{}.nc'.format(year))\n",
    "time_start=np.datetime64('{}-{:02d}-01'.format(year,month))\n",
    "time_end=np.datetime64('{}-{:02d}-10'.format(year,month)) if month<12 else np.datetime64('{}-01-01'.format(year+1))\n",
    "\n",
    "argo_times_all=argo_ds.time\n",
    "argo_lats_all=argo_ds.latitude\n",
    "argo_lons_all=argo_ds.longitude\n",
    "argo_links_all=argo_ds.link\n",
    "\n",
    "# argo_times=np.array(argo_times_all[(argo_ds.station_index<1000) & (argo_links_all==0)])\n",
    "# argo_lats=np.array(argo_lats_all[(argo_ds.station_index<1000) & (argo_links_all==0)])\n",
    "# argo_lons=np.array(argo_lons_all[(argo_ds.station_index<1000) & (argo_links_all==0)])\n",
    "\n",
    "argo_times=np.array(argo_times_all[(argo_times_all>time_start) & (argo_times_all<time_end) & (argo_links_all==0)])\n",
    "argo_lats=np.array(argo_lats_all[(argo_times_all>time_start) & (argo_times_all<time_end) & (argo_links_all==0)])\n",
    "argo_lons=np.array(argo_lons_all[(argo_times_all>time_start) & (argo_times_all<time_end) & (argo_links_all==0)])\n",
    "print(argo_lats.shape)\n",
    "\n",
    "# fig1, axes1=plt.subplots(nrows=1, ncols=1, figsize=(12,8), subplot_kw={'projection': cartopy.crs.PlateCarree()})\n",
    "# axes1.scatter(argo_lons,argo_lats,transform=cartopy.crs.PlateCarree(),s=1,c='blue')\n",
    "# axes1.coastlines()\n",
    "# axes1.add_feature(cartopy.feature.LAND)\n",
    "\n",
    "da_dir='/archive/fnl/SPEAR/SPEAR_c96_o1_ECDA_M10'\n",
    "temp_inc_ds=xr.open_dataset(da_dir+'/pp_ensemble/ocean_z_daily/ts/daily/1yr/ocean_z_daily.20100101-20101231.temp_increment.nc')\n",
    "# salt_inc_ds=xr.open_dataset(da_dir+'/pp_ensemble/ocean_z_daily/ts/daily/1yr/ocean_z_daily.20100101-20101231.salt_increment.nc')\n",
    "temp_bg_ds=xr.open_dataset(da_dir+'/pp_ensemble/ocean_z_daily/ts/daily/1yr/ocean_z_daily.20100101-20101231.thetao.nc')\n",
    "# salt_bg_ds=xr.open_dataset(da_dir+'/pp_ensemble/ocean_z_daily/ts/daily/1yr/ocean_z_daily.20100101-20101231.so.nc')\n",
    "\n",
    "temp_inc=temp_inc_ds['temp_increment']\n",
    "# salt_inc=salt_inc_ds['salt_increment']\n",
    "temp_bg=temp_bg_ds['thetao']\n",
    "# salt_bg=salt_bg_ds['so']\n",
    "levels=len(temp_inc.z_l)\n",
    "\n",
    "for da in [temp_inc,temp_bg]:\n",
    "    datetimeindex = da.indexes['time'].to_datetimeindex()\n",
    "    da['time']=datetimeindex\n",
    "    \n",
    "temp_inc_array=np.zeros((levels,len(argo_times)))\n",
    "temp_bg_array=np.zeros((levels,len(argo_times)))\n",
    "    \n",
    "for i,sample_time in enumerate(argo_times):\n",
    "    sample_lat=argo_lats[i]\n",
    "    sample_lon=argo_lons[i]\n",
    "    sample_period=slice(sample_time-np.timedelta64(1,'D'),sample_time+np.timedelta64(1,'D'))\n",
    "    \n",
    "    temp_inc_sample=temp_inc.sel(xh=sample_lon,yh=sample_lat,method='nearest').sel(time=sample_period).mean('time')\n",
    "    temp_inc_sample=np.where(np.isnan(temp_inc_sample),0.0,temp_inc_sample)*sec_per_day*thickness.data\n",
    "    temp_bg_sample=temp_bg.sel(xh=sample_lon,yh=sample_lat,method='nearest').sel(time=sample_period).mean('time')\n",
    "    temp_bg_sample=np.where(np.isnan(temp_bg_sample),0.0,temp_bg_sample)\n",
    "    \n",
    "    temp_inc_array[:,i]=temp_inc_sample\n",
    "    temp_bg_array[:,i]=temp_bg_sample"
   ]
  },
  {
   "cell_type": "code",
   "execution_count": 2,
   "id": "1ee475b4",
   "metadata": {},
   "outputs": [
    {
     "data": {
      "text/plain": [
       "<torch._C.Generator at 0x2ae81d72ead0>"
      ]
     },
     "execution_count": 2,
     "metadata": {},
     "output_type": "execute_result"
    }
   ],
   "source": [
    "import torch\n",
    "from torch.autograd import Variable\n",
    "import torch.nn.functional as F\n",
    "import torch.utils.data as Data\n",
    "import torchvision\n",
    "from torch import nn, optim\n",
    "import torch.nn.functional as F\n",
    "\n",
    "from sklearn.metrics import r2_score\n",
    "np.random.seed(14) # For reproducibility \n",
    "torch.manual_seed(14) # For reproducibility"
   ]
  },
  {
   "cell_type": "code",
   "execution_count": 3,
   "id": "7008c227",
   "metadata": {},
   "outputs": [],
   "source": [
    "def train_model(net,criterion,trainloader,optimizer):\n",
    "    net.train()\n",
    "    test_loss = 0\n",
    "    for step, (batch_x, batch_y) in enumerate(trainloader):  # for each training step\n",
    "        b_x = Variable(batch_x) # Inputs\n",
    "        b_y = Variable(batch_y) # outputs\n",
    "        if len(b_x.shape) == 1: # If is needed to add a dummy dimension if our inputs are 1D (where each number is a different sample)\n",
    "            prediction = torch.squeeze(net(torch.unsqueeze(b_x,1)))# input x and predict based on x\n",
    "        else:\n",
    "            prediction = net(b_x)\n",
    "        loss = criterion(prediction, b_y)   # Calculating loss \n",
    "        optimizer.zero_grad()  # clear gradients for next train\n",
    "        loss.backward()  # backpropagation, compute gradients\n",
    "        optimizer.step()  # apply gradients to update weights\n",
    "#         test_loss = test_loss + loss.data.numpy() # Keep track of the loss for convenience \n",
    "#     test_loss /= len(trainloader) # dividing by the number of batches\n",
    "#     print('the loss in this Epoch',test_loss)\n",
    "#     print(b_y.shape)\n",
    "#     print(prediction.shape)\n",
    "\n",
    "def test_model(net,criterion,trainloader,optimizer, text = 'validation'):\n",
    "    net.eval() # Evaluation mode (important when having dropout layers)\n",
    "    test_loss = 0\n",
    "    with torch.no_grad():\n",
    "        for step, (batch_x, batch_y) in enumerate(trainloader):  # for each training step\n",
    "            b_x = Variable(batch_x) # Inputs\n",
    "            b_y = Variable(batch_y) # outputs\n",
    "            if len(b_x.shape) == 1: # If is needed to add a dummy dimension if our inputs are 1D (where each number is a different sample)\n",
    "                prediction = torch.squeeze(net(torch.unsqueeze(b_x,1)))# input x and predict based on x\n",
    "            else:\n",
    "                prediction = net(b_x)\n",
    "            loss = criterion(prediction, b_y)   # Calculating loss \n",
    "            test_loss = test_loss + loss.data.numpy() # Keep track of the loss \n",
    "        test_loss /= len(trainloader) # dividing by the number of batches\n",
    "#         print(len(trainloader))\n",
    "        print(text + ' loss:',test_loss)\n",
    "    return test_loss"
   ]
  },
  {
   "cell_type": "code",
   "execution_count": 9,
   "id": "55e8db79",
   "metadata": {},
   "outputs": [
    {
     "name": "stdout",
     "output_type": "stream",
     "text": [
      "(100, 76)\n",
      "(100, 75)\n"
     ]
    }
   ],
   "source": [
    "input_data=np.vstack((np.cos(argo_lats*np.pi/180),temp_bg_array)).transpose()\n",
    "output_data=temp_inc_array.transpose()\n",
    "\n",
    "input_train=input_data[:-100,:]\n",
    "output_train=output_data[:-100,:]\n",
    "\n",
    "input_test=input_data[-100:,:]\n",
    "output_test=output_data[-100:,:]\n",
    "print(input_test.shape)\n",
    "print(output_test.shape)"
   ]
  },
  {
   "cell_type": "code",
   "execution_count": 5,
   "id": "2f902f20",
   "metadata": {},
   "outputs": [],
   "source": [
    "torch_dataset = Data.TensorDataset(\n",
    "    torch.from_numpy(input_train).double(),\n",
    "    torch.from_numpy(output_train).double()\n",
    ")\n",
    "\n",
    "BATCH_SIZE = 1024 # Number of sample in each batch\n",
    "\n",
    "loader = Data.DataLoader(\n",
    "        dataset=torch_dataset,\n",
    "        batch_size=BATCH_SIZE,\n",
    "        shuffle=True)\n",
    "\n",
    "torch_dataset_test = Data.TensorDataset(\n",
    "    torch.from_numpy(input_test).double(),\n",
    "    torch.from_numpy(output_test).double()\n",
    ")\n",
    "\n",
    "loader_test = Data.DataLoader(\n",
    "        dataset=torch_dataset_test,\n",
    "        batch_size=BATCH_SIZE,\n",
    "        shuffle=True)"
   ]
  },
  {
   "cell_type": "code",
   "execution_count": 10,
   "id": "07936847",
   "metadata": {},
   "outputs": [],
   "source": [
    "import torch.nn.functional as FF\n",
    "\n",
    "class Net_ANN(nn.Module):\n",
    "    def __init__(self):\n",
    "        super(Net_ANN, self).__init__()\n",
    "        self.linear1 = nn.Linear(76, 16) # 8 inputs, 16 neurons for first hidden layer\n",
    "        self.linear2 = nn.Linear(16, 16) # 16 neurons for second hidden layer\n",
    "        self.linear3 = nn.Linear(16, 75)  # 8 outputs\n",
    "#         self.lin_drop = nn.Dropout(0.1) #regularization method to prevent overfitting. \n",
    "\n",
    "    def forward(self, x):\n",
    "        x = FF.relu(self.linear1(x))\n",
    "        x = FF.relu(self.linear2(x))\n",
    "        x = self.linear3(x)\n",
    "        return x"
   ]
  },
  {
   "cell_type": "code",
   "execution_count": 11,
   "id": "24666297",
   "metadata": {},
   "outputs": [],
   "source": [
    "torch.manual_seed(14) # For reproducibility \n",
    "nn_3l = Net_ANN().double()"
   ]
  },
  {
   "cell_type": "code",
   "execution_count": 12,
   "id": "1bd50a3a",
   "metadata": {
    "scrolled": false
   },
   "outputs": [
    {
     "name": "stdout",
     "output_type": "stream",
     "text": [
      "train loss: 1.1630084172274004\n",
      "validation loss: 0.6997702085382381\n",
      "train loss: 0.5160914615971078\n",
      "validation loss: 0.3705798528970491\n",
      "train loss: 0.4320926542366556\n",
      "validation loss: 0.30719388527867925\n",
      "train loss: 0.2256470993875679\n",
      "validation loss: 0.2507422108061807\n",
      "train loss: 0.28521911924253013\n",
      "validation loss: 0.2285285333771975\n",
      "train loss: 0.17179363774125836\n",
      "validation loss: 0.2274713289226213\n",
      "train loss: 0.16682247763411526\n",
      "validation loss: 0.22471907490892512\n",
      "train loss: 0.16000717560147232\n",
      "validation loss: 0.2225573298381623\n",
      "train loss: 0.27635475682695126\n",
      "validation loss: 0.2208080266421149\n",
      "train loss: 0.18824047153726506\n",
      "validation loss: 0.21856158475675008\n",
      "train loss: 0.23752282678348954\n",
      "validation loss: 0.216692119324936\n",
      "train loss: 0.14270621229545896\n",
      "validation loss: 0.21481569676534595\n",
      "train loss: 0.16076919319814184\n",
      "validation loss: 0.21309135376280858\n",
      "train loss: 0.2708523668802332\n",
      "validation loss: 0.21133638225276363\n",
      "train loss: 0.15175282476952356\n",
      "validation loss: 0.20978157671598668\n",
      "train loss: 0.15681520745239988\n",
      "validation loss: 0.2084874828535416\n",
      "train loss: 0.18435087628729985\n",
      "validation loss: 0.20726138792320092\n",
      "train loss: 0.1627978069476509\n",
      "validation loss: 0.20628100972885707\n",
      "train loss: 0.21613652279015083\n",
      "validation loss: 0.2060915000803829\n",
      "train loss: 0.15810097389626904\n",
      "validation loss: 0.20530255909328204\n",
      "train loss: 0.1425490120940935\n",
      "validation loss: 0.20456135612571905\n",
      "train loss: 0.14995131344107077\n",
      "validation loss: 0.20444250533355476\n",
      "train loss: 0.1442302918196148\n",
      "validation loss: 0.20404484217731145\n",
      "train loss: 0.17526486846643294\n",
      "validation loss: 0.20392789908219353\n",
      "train loss: 0.18537406706115797\n",
      "validation loss: 0.20362583582278163\n",
      "train loss: 0.16296903613021413\n",
      "validation loss: 0.20349951560865404\n",
      "train loss: 0.15953381071451697\n",
      "validation loss: 0.20314702495938808\n",
      "train loss: 0.13606109935876526\n",
      "validation loss: 0.2028309725749722\n",
      "train loss: 0.29719955888533806\n",
      "validation loss: 0.20372605332674565\n",
      "train loss: 0.28632751337893436\n",
      "validation loss: 0.20254375564050153\n",
      "train loss: 0.13891476652720788\n",
      "validation loss: 0.20216416190096212\n",
      "train loss: 0.40710947292794186\n",
      "validation loss: 0.20308482900889055\n",
      "train loss: 0.13591118047949735\n",
      "validation loss: 0.20336275352261735\n",
      "train loss: 0.20133305724056436\n",
      "validation loss: 0.2015716117738732\n",
      "train loss: 0.2278220656578643\n",
      "validation loss: 0.20191130011974498\n",
      "train loss: 0.16624710309614735\n",
      "validation loss: 0.20373960950876502\n",
      "train loss: 0.15781978191829846\n",
      "validation loss: 0.20187286797544415\n",
      "train loss: 0.19581767947201004\n",
      "validation loss: 0.20139160037341272\n",
      "train loss: 0.2681836718856377\n",
      "validation loss: 0.2019494253360926\n",
      "train loss: 0.2628761462076696\n",
      "validation loss: 0.2021723597209859\n",
      "train loss: 0.15137111987437551\n",
      "validation loss: 0.2008613556608811\n",
      "train loss: 0.3628295065574046\n",
      "validation loss: 0.20085841068440127\n",
      "train loss: 0.21089968765633638\n",
      "validation loss: 0.20274867442290967\n",
      "train loss: 0.16776771209751015\n",
      "validation loss: 0.20191353435672516\n",
      "train loss: 0.1441448349178274\n",
      "validation loss: 0.20017192941119166\n",
      "train loss: 0.17080234110705253\n",
      "validation loss: 0.2003004402573032\n",
      "train loss: 0.13475229131898855\n",
      "validation loss: 0.20148934111347142\n",
      "train loss: 0.18994993445812905\n",
      "validation loss: 0.20168317766245233\n",
      "train loss: 0.15215925477225745\n",
      "validation loss: 0.20176272921422053\n",
      "train loss: 0.15026713733517524\n",
      "validation loss: 0.2001672215252294\n"
     ]
    },
    {
     "data": {
      "image/png": "[encoded data removed]",
      "text/plain": [
       "<Figure size 432x288 with 1 Axes>"
      ]
     },
     "metadata": {
      "needs_background": "light"
     },
     "output_type": "display_data"
    }
   ],
   "source": [
    "criterion = torch.nn.MSELoss() # MSE loss function\n",
    "n_epochs = 50 #Number of epocs\n",
    "optimizer = optim.Adam(nn_3l.parameters(), lr=0.003)\n",
    "validation_loss = list()\n",
    "train_loss = list()\n",
    "# time0 = time()  \n",
    "for epoch in range(1, n_epochs + 1):\n",
    "    train_model(nn_3l,criterion,loader,optimizer)\n",
    "    train_loss.append(test_model(nn_3l,criterion,loader,optimizer, 'train'))\n",
    "    validation_loss.append(test_model(nn_3l,criterion,loader_test,optimizer))\n",
    "plt.plot(train_loss,'b', label='training loss');\n",
    "plt.plot(validation_loss,'r', label='validation loss');\n",
    "\n",
    "plt.legend();"
   ]
  },
  {
   "cell_type": "code",
   "execution_count": 13,
   "id": "c85e02ca",
   "metadata": {},
   "outputs": [
    {
     "data": {
      "image/png": "[encoded data removed]",
      "text/plain": [
       "<Figure size 432x288 with 1 Axes>"
      ]
     },
     "metadata": {
      "needs_background": "light"
     },
     "output_type": "display_data"
    }
   ],
   "source": [
    "preds22 = nn_3l(torch.from_numpy(input_test[:,:]).double())\n",
    "plt.plot(preds22.detach().numpy()[0:100,0], label='NN Predicted values')\n",
    "plt.plot(output_test[:100,0], label='True values');\n",
    "\n",
    "plt.legend();"
   ]
  }
 ],
 "metadata": {
  "kernelspec": {
   "display_name": "Python 3 (ipykernel)",
   "language": "python",
   "name": "python3"
  },
  "language_info": {
   "codemirror_mode": {
    "name": "ipython",
    "version": 3
   },
   "file_extension": ".py",
   "mimetype": "text/x-python",
   "name": "python",
   "nbconvert_exporter": "python",
   "pygments_lexer": "ipython3",
   "version": "3.8.12"
  }
 },
 "nbformat": 4,
 "nbformat_minor": 5
}
